{
 "cells": [
  {
   "cell_type": "code",
   "execution_count": 1,
   "metadata": {
    "scrolled": false
   },
   "outputs": [],
   "source": [
    "import operator\n",
    "with open('files/task.csv','r') as f:\n",
    "    s=f.read()\n",
    "    st=\"\"\n",
    "    list1=[]\n",
    "    list2=[]\n",
    "    rollname=[]\n",
    "    ts=[]\n",
    "    for i in s:\n",
    "        if(i==\"\\n\"):\n",
    "            list1.append(st.split(\",\"))\n",
    "            list2.append(list1)\n",
    "            st=\"\"\n",
    "        else:\n",
    "            st=st+i\n",
    "    for i in list2:\n",
    "        for j in i:\n",
    "            ts.append(j[4])\n",
    "            \n",
    "    for i in list2:\n",
    "        for j in i:\n",
    "            rollname.append(j[0])\n",
    "    rollname.pop(rollname.index(\"Name\"))\n",
    "    rollnolist=[]\n",
    "    for i in rollname:\n",
    "        if(operator.contains(i,'-')==False):\n",
    "            pass\n",
    "            \n",
    "        else:\n",
    "            no=i.split(\"-\")\n",
    "            count=0\n",
    "            for j in no[0]:\n",
    "                if(j.isnumeric()):\n",
    "                    count+=1\n",
    "            if(count>0):\n",
    "                rollnolist.append(no[0])\n",
    "    "
   ]
  },
  {
   "cell_type": "code",
   "execution_count": 2,
   "metadata": {},
   "outputs": [
    {
     "ename": "IndexError",
     "evalue": "list index out of range",
     "output_type": "error",
     "traceback": [
      "\u001b[1;31m---------------------------------------------------------------------------\u001b[0m",
      "\u001b[1;31mIndexError\u001b[0m                                Traceback (most recent call last)",
      "\u001b[1;32m<ipython-input-2-9ce4bae501c7>\u001b[0m in \u001b[0;36m<module>\u001b[1;34m\u001b[0m\n\u001b[0;32m      4\u001b[0m     \u001b[0mw\u001b[0m\u001b[1;33m.\u001b[0m\u001b[0mwrite\u001b[0m\u001b[1;33m(\u001b[0m\u001b[1;34m\"RollNo\"\u001b[0m\u001b[1;33m+\u001b[0m\u001b[1;34m\",\"\u001b[0m\u001b[1;33m+\u001b[0m\u001b[1;34m\"Time\"\u001b[0m\u001b[1;33m+\u001b[0m\u001b[1;34m\"\\n\"\u001b[0m\u001b[1;33m)\u001b[0m\u001b[1;33m\u001b[0m\u001b[1;33m\u001b[0m\u001b[0m\n\u001b[0;32m      5\u001b[0m     \u001b[1;32mfor\u001b[0m \u001b[0mi\u001b[0m \u001b[1;32min\u001b[0m \u001b[0mrange\u001b[0m\u001b[1;33m(\u001b[0m\u001b[1;36m0\u001b[0m\u001b[1;33m,\u001b[0m\u001b[0mlen\u001b[0m\u001b[1;33m(\u001b[0m\u001b[0ms1\u001b[0m\u001b[1;33m)\u001b[0m\u001b[1;33m)\u001b[0m\u001b[1;33m:\u001b[0m\u001b[1;33m\u001b[0m\u001b[1;33m\u001b[0m\u001b[0m\n\u001b[1;32m----> 6\u001b[1;33m         \u001b[0mw\u001b[0m\u001b[1;33m.\u001b[0m\u001b[0mwrite\u001b[0m\u001b[1;33m(\u001b[0m\u001b[0ms1\u001b[0m\u001b[1;33m[\u001b[0m\u001b[0mi\u001b[0m\u001b[1;33m]\u001b[0m\u001b[1;33m+\u001b[0m\u001b[1;34m\",\"\u001b[0m\u001b[1;33m+\u001b[0m\u001b[0ms2\u001b[0m\u001b[1;33m[\u001b[0m\u001b[0mi\u001b[0m\u001b[1;33m]\u001b[0m\u001b[1;33m+\u001b[0m\u001b[1;34m\"\\n\"\u001b[0m\u001b[1;33m)\u001b[0m\u001b[1;33m\u001b[0m\u001b[1;33m\u001b[0m\u001b[0m\n\u001b[0m\u001b[0;32m      7\u001b[0m \u001b[1;33m\u001b[0m\u001b[0m\n",
      "\u001b[1;31mIndexError\u001b[0m: list index out of range"
     ]
    }
   ],
   "source": [
    "with open('files/output.csv','w') as w:\n",
    "    s1=list(set(rollnolist))\n",
    "    s2=list(set(ts))\n",
    "    w.write(\"RollNo\"+\",\"+\"Time\"+\"\\n\")\n",
    "    for i in range(0,len(s1)):\n",
    "        w.write(s1[i]+\",\"+s2[i]+\"\\n\")\n",
    "    "
   ]
  },
  {
   "cell_type": "code",
   "execution_count": 3,
   "metadata": {},
   "outputs": [
    {
     "name": "stdout",
     "output_type": "stream",
     "text": [
      "RollNo,Time\n",
      "19kq1a05h4,103\n",
      "18471A0551,39\n",
      "19765A0501,135\n",
      "19KQ1A0530,28\n",
      "18FE1A05B7,38\n",
      "S160188,93\n",
      "19BQ1A0536,85\n",
      "19KQ1A0506,13\n",
      "19kq1a0725,2\n",
      "19kQ1A0534,31\n",
      "Y18ACS482,11\n",
      "19BQ1A0551,14\n",
      "Y18ACS501,136\n",
      "18691A04E8,127\n",
      "AP19110010095,5\n",
      "19KQ1A0507,133\n",
      "19131a05n2,125\n",
      "168A1A0455,156\n",
      "AP19110010297,6:16 AM\n",
      "AP19110010317,123\n",
      "AP19110010497,78\n",
      "19kq1a0721,25\n",
      "319506402075,20\n",
      "19KQ1A0508,155\n",
      "319506402074,1\n",
      "19kq1a0527,96\n",
      "AP19110010038,108\n",
      "AP19110010243,111\n",
      "\"19005A0520,115\n",
      "19KQ1A0532,97\n",
      "321810401044,132\n",
      "18F01A0548,134\n",
      "19BQ1A0536 ,18\n",
      "19KQ1A0548,91\n",
      "19KQ1A0564,81\n",
      "AP19110010546,118\n",
      "AP19110010488,105\n",
      "181FA06009,102\n",
      "AP19110010288,4\n",
      "19005A0521,0\n",
      "AP19110010408,Time in Session (minutes)\n",
      "319506402100,143\n",
      "19KQ1A0522,146\n",
      "20kQ5AO513,47\n",
      "321810401037,130\n",
      "19BQ1A0551 ,126\n",
      "\"1881951044,22\n",
      "19695A0514,129\n",
      "AP19110010204,10\n",
      "319506402102,157\n",
      "AP19110010095 ,117\n",
      "16491A04C5,128\n",
      "19KQA0505,104\n",
      "19KQ1AO528,54\n",
      "AP19110010410,109\n",
      "Y18ACS483 ,140\n",
      "19kq1a0718,36\n",
      "Y18ACS431,87\n",
      "19KQ1A0518,75\n",
      "19KQ1A0523,8\n",
      "19KQ1A05H1,7\n",
      "19KQ1A0502,61\n",
      "AP19110010503,37\n",
      "19kq1a0520,45\n",
      "AP19110010170,24\n",
      "19KQ1A0521,48\n",
      "19KQ1A0519,110\n",
      "19kq1a0705,3\n",
      "19KQ1A0541,121\n",
      "18691A0544,29\n",
      "319506402097,6\n",
      "19KQ1A0505,4:00 AM\n",
      "18761A0479,107\n",
      "19KQ1A0526,153\n",
      "Y18ACS484,59\n",
      "AP19110010054,6:18 AM\n",
      "19KQ1A0547,120\n",
      "19KQ1A0534,122\n",
      "AP18110010142,124\n",
      "\n"
     ]
    }
   ],
   "source": [
    "with open('files/output.csv','r') as r:\n",
    "    print(r.read())"
   ]
  },
  {
   "cell_type": "code",
   "execution_count": null,
   "metadata": {},
   "outputs": [],
   "source": []
  }
 ],
 "metadata": {
  "kernelspec": {
   "display_name": "Python 3",
   "language": "python",
   "name": "python3"
  },
  "language_info": {
   "codemirror_mode": {
    "name": "ipython",
    "version": 3
   },
   "file_extension": ".py",
   "mimetype": "text/x-python",
   "name": "python",
   "nbconvert_exporter": "python",
   "pygments_lexer": "ipython3",
   "version": "3.8.5"
  }
 },
 "nbformat": 4,
 "nbformat_minor": 4
}
